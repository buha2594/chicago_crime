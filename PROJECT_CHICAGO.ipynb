{
 "cells": [
  {
   "cell_type": "code",
   "execution_count": 3,
   "id": "19a6c20e-1bd3-4b27-aba9-4eb3b07ff033",
   "metadata": {},
   "outputs": [],
   "source": [
    "import numpy as np\n",
    "import pandas as pd"
   ]
  },
  {
   "cell_type": "code",
   "execution_count": 5,
   "id": "a8499868-3800-48de-81bd-76a1a059971c",
   "metadata": {},
   "outputs": [
    {
     "data": {
      "text/html": [
       "<div>\n",
       "<style scoped>\n",
       "    .dataframe tbody tr th:only-of-type {\n",
       "        vertical-align: middle;\n",
       "    }\n",
       "\n",
       "    .dataframe tbody tr th {\n",
       "        vertical-align: top;\n",
       "    }\n",
       "\n",
       "    .dataframe thead th {\n",
       "        text-align: right;\n",
       "    }\n",
       "</style>\n",
       "<table border=\"1\" class=\"dataframe\">\n",
       "  <thead>\n",
       "    <tr style=\"text-align: right;\">\n",
       "      <th></th>\n",
       "      <th>ID</th>\n",
       "      <th>Case Number</th>\n",
       "      <th>Date</th>\n",
       "      <th>Block</th>\n",
       "      <th>IUCR</th>\n",
       "      <th>Primary Type</th>\n",
       "      <th>Description</th>\n",
       "      <th>Location Description</th>\n",
       "      <th>Arrest</th>\n",
       "      <th>Domestic</th>\n",
       "      <th>...</th>\n",
       "      <th>Ward</th>\n",
       "      <th>Community Area</th>\n",
       "      <th>FBI Code</th>\n",
       "      <th>X Coordinate</th>\n",
       "      <th>Y Coordinate</th>\n",
       "      <th>Year</th>\n",
       "      <th>Updated On</th>\n",
       "      <th>Latitude</th>\n",
       "      <th>Longitude</th>\n",
       "      <th>Location</th>\n",
       "    </tr>\n",
       "  </thead>\n",
       "  <tbody>\n",
       "    <tr>\n",
       "      <th>0</th>\n",
       "      <td>5741943</td>\n",
       "      <td>HN549294</td>\n",
       "      <td>2007-08-25 09:22:18</td>\n",
       "      <td>074XX N ROGERS AVE</td>\n",
       "      <td>560</td>\n",
       "      <td>ASSAULT</td>\n",
       "      <td>SIMPLE</td>\n",
       "      <td>OTHER</td>\n",
       "      <td>False</td>\n",
       "      <td>False</td>\n",
       "      <td>...</td>\n",
       "      <td>49.0</td>\n",
       "      <td>1.0</td>\n",
       "      <td>08A</td>\n",
       "      <td>NaN</td>\n",
       "      <td>NaN</td>\n",
       "      <td>2007</td>\n",
       "      <td>2015-08-17 15:03:40</td>\n",
       "      <td>NaN</td>\n",
       "      <td>NaN</td>\n",
       "      <td>NaN</td>\n",
       "    </tr>\n",
       "    <tr>\n",
       "      <th>1</th>\n",
       "      <td>25953</td>\n",
       "      <td>JE240540</td>\n",
       "      <td>2021-05-24 15:06:00</td>\n",
       "      <td>020XX N LARAMIE AVE</td>\n",
       "      <td>110</td>\n",
       "      <td>HOMICIDE</td>\n",
       "      <td>FIRST DEGREE MURDER</td>\n",
       "      <td>STREET</td>\n",
       "      <td>True</td>\n",
       "      <td>False</td>\n",
       "      <td>...</td>\n",
       "      <td>36.0</td>\n",
       "      <td>19.0</td>\n",
       "      <td>01A</td>\n",
       "      <td>1141387.0</td>\n",
       "      <td>1913179.0</td>\n",
       "      <td>2021</td>\n",
       "      <td>2023-11-18 15:39:49</td>\n",
       "      <td>41.917838</td>\n",
       "      <td>-87.755969</td>\n",
       "      <td>(41.917838056, -87.755968972)</td>\n",
       "    </tr>\n",
       "    <tr>\n",
       "      <th>2</th>\n",
       "      <td>26038</td>\n",
       "      <td>JE279849</td>\n",
       "      <td>2021-06-26 09:24:00</td>\n",
       "      <td>062XX N MC CORMICK RD</td>\n",
       "      <td>110</td>\n",
       "      <td>HOMICIDE</td>\n",
       "      <td>FIRST DEGREE MURDER</td>\n",
       "      <td>PARKING LOT</td>\n",
       "      <td>True</td>\n",
       "      <td>False</td>\n",
       "      <td>...</td>\n",
       "      <td>50.0</td>\n",
       "      <td>13.0</td>\n",
       "      <td>01A</td>\n",
       "      <td>1152781.0</td>\n",
       "      <td>1941458.0</td>\n",
       "      <td>2021</td>\n",
       "      <td>2023-11-18 15:39:49</td>\n",
       "      <td>41.995219</td>\n",
       "      <td>-87.713355</td>\n",
       "      <td>(41.995219444, -87.713354912)</td>\n",
       "    </tr>\n",
       "    <tr>\n",
       "      <th>3</th>\n",
       "      <td>13279676</td>\n",
       "      <td>JG507211</td>\n",
       "      <td>2023-11-09 07:30:00</td>\n",
       "      <td>019XX W BYRON ST</td>\n",
       "      <td>620</td>\n",
       "      <td>BURGLARY</td>\n",
       "      <td>UNLAWFUL ENTRY</td>\n",
       "      <td>APARTMENT</td>\n",
       "      <td>False</td>\n",
       "      <td>False</td>\n",
       "      <td>...</td>\n",
       "      <td>47.0</td>\n",
       "      <td>5.0</td>\n",
       "      <td>5</td>\n",
       "      <td>1162518.0</td>\n",
       "      <td>1925906.0</td>\n",
       "      <td>2023</td>\n",
       "      <td>2023-11-18 15:39:49</td>\n",
       "      <td>41.952345</td>\n",
       "      <td>-87.677975</td>\n",
       "      <td>(41.952345086, -87.677975059)</td>\n",
       "    </tr>\n",
       "    <tr>\n",
       "      <th>4</th>\n",
       "      <td>13274752</td>\n",
       "      <td>JG501049</td>\n",
       "      <td>2023-11-12 07:59:00</td>\n",
       "      <td>086XX S COTTAGE GROVE AVE</td>\n",
       "      <td>454</td>\n",
       "      <td>BATTERY</td>\n",
       "      <td>AGGRAVATED P.O. - HANDS, FISTS, FEET, NO / MIN...</td>\n",
       "      <td>SMALL RETAIL STORE</td>\n",
       "      <td>True</td>\n",
       "      <td>False</td>\n",
       "      <td>...</td>\n",
       "      <td>6.0</td>\n",
       "      <td>44.0</td>\n",
       "      <td>08B</td>\n",
       "      <td>1183071.0</td>\n",
       "      <td>1847869.0</td>\n",
       "      <td>2023</td>\n",
       "      <td>2023-12-09 15:41:24</td>\n",
       "      <td>41.737751</td>\n",
       "      <td>-87.604856</td>\n",
       "      <td>(41.737750767, -87.604855911)</td>\n",
       "    </tr>\n",
       "  </tbody>\n",
       "</table>\n",
       "<p>5 rows × 22 columns</p>\n",
       "</div>"
      ],
      "text/plain": [
       "         ID Case Number                Date                      Block IUCR  \\\n",
       "0   5741943    HN549294 2007-08-25 09:22:18         074XX N ROGERS AVE  560   \n",
       "1     25953    JE240540 2021-05-24 15:06:00        020XX N LARAMIE AVE  110   \n",
       "2     26038    JE279849 2021-06-26 09:24:00      062XX N MC CORMICK RD  110   \n",
       "3  13279676    JG507211 2023-11-09 07:30:00           019XX W BYRON ST  620   \n",
       "4  13274752    JG501049 2023-11-12 07:59:00  086XX S COTTAGE GROVE AVE  454   \n",
       "\n",
       "  Primary Type                                        Description  \\\n",
       "0      ASSAULT                                             SIMPLE   \n",
       "1     HOMICIDE                                FIRST DEGREE MURDER   \n",
       "2     HOMICIDE                                FIRST DEGREE MURDER   \n",
       "3     BURGLARY                                     UNLAWFUL ENTRY   \n",
       "4      BATTERY  AGGRAVATED P.O. - HANDS, FISTS, FEET, NO / MIN...   \n",
       "\n",
       "  Location Description  Arrest  Domestic  ...  Ward  Community Area  FBI Code  \\\n",
       "0                OTHER   False     False  ...  49.0             1.0       08A   \n",
       "1               STREET    True     False  ...  36.0            19.0       01A   \n",
       "2          PARKING LOT    True     False  ...  50.0            13.0       01A   \n",
       "3            APARTMENT   False     False  ...  47.0             5.0         5   \n",
       "4   SMALL RETAIL STORE    True     False  ...   6.0            44.0       08B   \n",
       "\n",
       "   X Coordinate Y Coordinate  Year          Updated On   Latitude  Longitude  \\\n",
       "0           NaN          NaN  2007 2015-08-17 15:03:40        NaN        NaN   \n",
       "1     1141387.0    1913179.0  2021 2023-11-18 15:39:49  41.917838 -87.755969   \n",
       "2     1152781.0    1941458.0  2021 2023-11-18 15:39:49  41.995219 -87.713355   \n",
       "3     1162518.0    1925906.0  2023 2023-11-18 15:39:49  41.952345 -87.677975   \n",
       "4     1183071.0    1847869.0  2023 2023-12-09 15:41:24  41.737751 -87.604856   \n",
       "\n",
       "                        Location  \n",
       "0                            NaN  \n",
       "1  (41.917838056, -87.755968972)  \n",
       "2  (41.995219444, -87.713354912)  \n",
       "3  (41.952345086, -87.677975059)  \n",
       "4  (41.737750767, -87.604855911)  \n",
       "\n",
       "[5 rows x 22 columns]"
      ]
     },
     "execution_count": 5,
     "metadata": {},
     "output_type": "execute_result"
    }
   ],
   "source": [
    "##Read the excel file\n",
    "df=pd.read_excel(\"D:/cdrive/desktop/DIVYA/CAREER/guvi/PROJECT/CHICAGOCRIME/Crime_Data.xlsx\")\n",
    "df.head()"
   ]
  },
  {
   "cell_type": "code",
   "execution_count": 7,
   "id": "9c479bb1-b9d3-46f2-9aee-e4821d06d035",
   "metadata": {},
   "outputs": [
    {
     "name": "stdout",
     "output_type": "stream",
     "text": [
      "<class 'pandas.core.frame.DataFrame'>\n",
      "RangeIndex: 549999 entries, 0 to 549998\n",
      "Data columns (total 22 columns):\n",
      " #   Column                Non-Null Count   Dtype         \n",
      "---  ------                --------------   -----         \n",
      " 0   ID                    549999 non-null  int64         \n",
      " 1   Case Number           549999 non-null  object        \n",
      " 2   Date                  549999 non-null  datetime64[ns]\n",
      " 3   Block                 549999 non-null  object        \n",
      " 4   IUCR                  549999 non-null  object        \n",
      " 5   Primary Type          549999 non-null  object        \n",
      " 6   Description           549999 non-null  object        \n",
      " 7   Location Description  548326 non-null  object        \n",
      " 8   Arrest                549999 non-null  bool          \n",
      " 9   Domestic              549999 non-null  bool          \n",
      " 10  Beat                  549999 non-null  int64         \n",
      " 11  District              549999 non-null  int64         \n",
      " 12  Ward                  213674 non-null  float64       \n",
      " 13  Community Area        215093 non-null  float64       \n",
      " 14  FBI Code              549999 non-null  object        \n",
      " 15  X Coordinate          543087 non-null  float64       \n",
      " 16  Y Coordinate          543087 non-null  float64       \n",
      " 17  Year                  549999 non-null  int64         \n",
      " 18  Updated On            549999 non-null  datetime64[ns]\n",
      " 19  Latitude              543087 non-null  float64       \n",
      " 20  Longitude             543087 non-null  float64       \n",
      " 21  Location              543087 non-null  object        \n",
      "dtypes: bool(2), datetime64[ns](2), float64(6), int64(4), object(8)\n",
      "memory usage: 85.0+ MB\n"
     ]
    }
   ],
   "source": [
    "# General information about the dataset \n",
    "# including data types and missing information \n",
    "df.info()"
   ]
  },
  {
   "cell_type": "code",
   "execution_count": null,
   "id": "f30a4ca4-687c-4c82-a663-0b0044803a88",
   "metadata": {},
   "outputs": [],
   "source": [
    "##the following column has null values\n",
    "Location Description  548326 non-null  object  \n",
    "Ward                  213674 non-null  float64   \n",
    "Community Area        215093 non-null  float64   \n",
    "X Coordinate          543087 non-null  float64       \n",
    "Y Coordinate          543087 non-null  float64       \n",
    "Latitude              543087 non-null  float64       \n",
    "Longitude             543087 non-null  float64       \n",
    "Location              543087 non-null  object      "
   ]
  },
  {
   "cell_type": "code",
   "execution_count": 9,
   "id": "a54b52a0-c61a-45fa-8543-766f17033a59",
   "metadata": {},
   "outputs": [
    {
     "data": {
      "text/plain": [
       "77"
      ]
     },
     "execution_count": 9,
     "metadata": {},
     "output_type": "execute_result"
    }
   ],
   "source": [
    "df['Community Area'].nunique()"
   ]
  },
  {
   "cell_type": "code",
   "execution_count": 11,
   "id": "fb2a7aa6-3a47-4420-8c12-9fa9db043400",
   "metadata": {},
   "outputs": [],
   "source": [
    "##filling community area with mode value\n",
    "df['Community Area'] = df['Community Area'].fillna(df['Community Area'].mode()[0])\n"
   ]
  },
  {
   "cell_type": "code",
   "execution_count": 13,
   "id": "5610272e-53ee-4f60-a828-6ef7a5476890",
   "metadata": {},
   "outputs": [
    {
     "name": "stdout",
     "output_type": "stream",
     "text": [
      "0\n"
     ]
    }
   ],
   "source": [
    "# Verify null values are handled\n",
    "print(df['Community Area'].isnull().sum())"
   ]
  },
  {
   "cell_type": "code",
   "execution_count": 15,
   "id": "c497db4a-9eaf-4bb2-99c9-105357f656a0",
   "metadata": {},
   "outputs": [
    {
     "data": {
      "text/plain": [
       "210"
      ]
     },
     "execution_count": 15,
     "metadata": {},
     "output_type": "execute_result"
    }
   ],
   "source": [
    "##changing Location Description as unknown for null values\n",
    "df['Location Description'].nunique()"
   ]
  },
  {
   "cell_type": "code",
   "execution_count": 17,
   "id": "16179896-6f0e-4134-a295-4db7adbc60d1",
   "metadata": {},
   "outputs": [],
   "source": [
    "df['Location Description']=df['Location Description'].fillna('Unknown')"
   ]
  },
  {
   "cell_type": "code",
   "execution_count": 19,
   "id": "52ba704d-6478-4674-90ce-f57047021f4c",
   "metadata": {},
   "outputs": [
    {
     "name": "stdout",
     "output_type": "stream",
     "text": [
      "<class 'pandas.core.frame.DataFrame'>\n",
      "RangeIndex: 549999 entries, 0 to 549998\n",
      "Data columns (total 22 columns):\n",
      " #   Column                Non-Null Count   Dtype         \n",
      "---  ------                --------------   -----         \n",
      " 0   ID                    549999 non-null  int64         \n",
      " 1   Case Number           549999 non-null  object        \n",
      " 2   Date                  549999 non-null  datetime64[ns]\n",
      " 3   Block                 549999 non-null  object        \n",
      " 4   IUCR                  549999 non-null  object        \n",
      " 5   Primary Type          549999 non-null  object        \n",
      " 6   Description           549999 non-null  object        \n",
      " 7   Location Description  549999 non-null  object        \n",
      " 8   Arrest                549999 non-null  bool          \n",
      " 9   Domestic              549999 non-null  bool          \n",
      " 10  Beat                  549999 non-null  int64         \n",
      " 11  District              549999 non-null  int64         \n",
      " 12  Ward                  213674 non-null  float64       \n",
      " 13  Community Area        549999 non-null  float64       \n",
      " 14  FBI Code              549999 non-null  object        \n",
      " 15  X Coordinate          543087 non-null  float64       \n",
      " 16  Y Coordinate          543087 non-null  float64       \n",
      " 17  Year                  549999 non-null  int64         \n",
      " 18  Updated On            549999 non-null  datetime64[ns]\n",
      " 19  Latitude              543087 non-null  float64       \n",
      " 20  Longitude             543087 non-null  float64       \n",
      " 21  Location              543087 non-null  object        \n",
      "dtypes: bool(2), datetime64[ns](2), float64(6), int64(4), object(8)\n",
      "memory usage: 85.0+ MB\n"
     ]
    }
   ],
   "source": [
    "df.info()"
   ]
  },
  {
   "cell_type": "code",
   "execution_count": 21,
   "id": "34b65dc5-198b-45ed-82c8-02771a02e140",
   "metadata": {},
   "outputs": [
    {
     "data": {
      "text/plain": [
       "50"
      ]
     },
     "execution_count": 21,
     "metadata": {},
     "output_type": "execute_result"
    }
   ],
   "source": [
    "df['Ward'].nunique()"
   ]
  },
  {
   "cell_type": "code",
   "execution_count": 23,
   "id": "32d37722-3c8d-427e-9021-b58fd0feeeff",
   "metadata": {},
   "outputs": [
    {
     "name": "stdout",
     "output_type": "stream",
     "text": [
      "              ID Case Number                Date                 Block  IUCR  \\\n",
      "0        5741943    HN549294 2007-08-25 09:22:18    074XX N ROGERS AVE   560   \n",
      "5        1930689    HH109118 2002-01-05 21:24:00        007XX E 103 ST   820   \n",
      "27      12416972    JE293535 2020-10-01 00:01:00       031XX W 53RD PL  1753   \n",
      "28      12416974    JE293464 2011-08-10 00:01:00       031XX W 53RD PL  1753   \n",
      "29      12536164    JE439378 2015-09-24 00:00:00       031XX W 53RD PL  1753   \n",
      "...          ...         ...                 ...                   ...   ...   \n",
      "549319   1745537     G555046 2001-09-16 02:40:00         041XX W 42 ST  1220   \n",
      "549444   1674254     G463536 2001-08-06 00:30:00     118XX S CHURCH ST   460   \n",
      "549622   1803852     G623405 2001-10-16 23:39:19      066XX W GRAND AV   460   \n",
      "549865   1721905     G524424 2001-09-01 21:00:00     020XX S ARCHER AV   810   \n",
      "549873   1672685     G457581 2001-08-03 12:29:00  067XX S GREENWOOD AV   460   \n",
      "\n",
      "                      Primary Type                               Description  \\\n",
      "0                          ASSAULT                                    SIMPLE   \n",
      "5                            THEFT                            $500 AND UNDER   \n",
      "27      OFFENSE INVOLVING CHILDREN  SEXUAL ASSAULT OF CHILD BY FAMILY MEMBER   \n",
      "28      OFFENSE INVOLVING CHILDREN  SEXUAL ASSAULT OF CHILD BY FAMILY MEMBER   \n",
      "29      OFFENSE INVOLVING CHILDREN  SEXUAL ASSAULT OF CHILD BY FAMILY MEMBER   \n",
      "...                            ...                                       ...   \n",
      "549319          DECEPTIVE PRACTICE                THEFT OF LOST/MISLAID PROP   \n",
      "549444                     BATTERY                                    SIMPLE   \n",
      "549622                     BATTERY                                    SIMPLE   \n",
      "549865                       THEFT                                 OVER $500   \n",
      "549873                     BATTERY                                    SIMPLE   \n",
      "\n",
      "       Location Description  Arrest  Domestic  ...  Ward  Community Area  \\\n",
      "0                     OTHER   False     False  ...  49.0             1.0   \n",
      "5               GAS STATION    True     False  ...   NaN            25.0   \n",
      "27                RESIDENCE   False      True  ...  14.0            63.0   \n",
      "28                RESIDENCE   False      True  ...  14.0            63.0   \n",
      "29                APARTMENT   False      True  ...  14.0            63.0   \n",
      "...                     ...     ...       ...  ...   ...             ...   \n",
      "549319               STREET    True     False  ...   NaN            25.0   \n",
      "549444               STREET   False     False  ...   NaN            25.0   \n",
      "549622        BAR OR TAVERN   False     False  ...   NaN            25.0   \n",
      "549865               STREET   False     False  ...   NaN            25.0   \n",
      "549873               STREET   False     False  ...   NaN            25.0   \n",
      "\n",
      "        FBI Code  X Coordinate Y Coordinate  Year          Updated On  \\\n",
      "0            08A           NaN          NaN  2007 2015-08-17 15:03:40   \n",
      "5              6           NaN          NaN  2002 2016-02-04 06:33:39   \n",
      "27             2           NaN          NaN  2020 2023-09-14 15:41:59   \n",
      "28             2           NaN          NaN  2011 2023-09-14 15:41:59   \n",
      "29             2           NaN          NaN  2015 2023-09-14 15:41:59   \n",
      "...          ...           ...          ...   ...                 ...   \n",
      "549319        11           NaN          NaN  2001 2015-08-17 15:03:40   \n",
      "549444       08B           NaN          NaN  2001 2015-08-17 15:03:40   \n",
      "549622       08B           NaN          NaN  2001 2015-08-17 15:03:40   \n",
      "549865         6           NaN          NaN  2001 2015-08-17 15:03:40   \n",
      "549873       08B           NaN          NaN  2001 2015-08-17 15:03:40   \n",
      "\n",
      "        Latitude Longitude  Location  \n",
      "0            NaN       NaN       NaN  \n",
      "5            NaN       NaN       NaN  \n",
      "27           NaN       NaN       NaN  \n",
      "28           NaN       NaN       NaN  \n",
      "29           NaN       NaN       NaN  \n",
      "...          ...       ...       ...  \n",
      "549319       NaN       NaN       NaN  \n",
      "549444       NaN       NaN       NaN  \n",
      "549622       NaN       NaN       NaN  \n",
      "549865       NaN       NaN       NaN  \n",
      "549873       NaN       NaN       NaN  \n",
      "\n",
      "[6912 rows x 22 columns]\n"
     ]
    }
   ],
   "source": [
    "null_rows=df[df[['Latitude', 'Longitude','Location', 'X Coordinate', 'Y Coordinate']].isnull().all(axis=1)]\n",
    "print (null_rows)"
   ]
  },
  {
   "cell_type": "code",
   "execution_count": null,
   "id": "b625947c-8189-4c95-ac89-84e85c10b887",
   "metadata": {},
   "outputs": [],
   "source": [
    "'''\n",
    "Total 6912 columns does not have 'Latitude', 'Longitude','Location', 'X Coordinate', 'Y Coordinate'\n",
    "values. Making these values as -1  and location to unknown since they represent less than 2% of data\n",
    "'''"
   ]
  },
  {
   "cell_type": "code",
   "execution_count": 25,
   "id": "32b0e503-5d4f-4568-b9df-cccbe9bc0830",
   "metadata": {},
   "outputs": [],
   "source": [
    "# Assign -1 to numeric columns and 'Unknown' to string column\n",
    "df.loc[df[['Latitude', 'Longitude', 'X Coordinate', 'Y Coordinate']].isnull().all(axis=1), ['Latitude', 'Longitude','X Coordinate', 'Y Coordinate']] = -1\n",
    "##df.loc[df[['Latitude', 'Longitude', 'Location','X Coordinate', 'Y Coordinate']].isnull().all(axis=1), 'Location'] = 'Unknown'\n"
   ]
  },
  {
   "cell_type": "code",
   "execution_count": 27,
   "id": "78b9503e-5a7f-4a3f-8935-71f4f5e0b679",
   "metadata": {},
   "outputs": [
    {
     "name": "stdout",
     "output_type": "stream",
     "text": [
      "<class 'pandas.core.frame.DataFrame'>\n",
      "RangeIndex: 549999 entries, 0 to 549998\n",
      "Data columns (total 22 columns):\n",
      " #   Column                Non-Null Count   Dtype         \n",
      "---  ------                --------------   -----         \n",
      " 0   ID                    549999 non-null  int64         \n",
      " 1   Case Number           549999 non-null  object        \n",
      " 2   Date                  549999 non-null  datetime64[ns]\n",
      " 3   Block                 549999 non-null  object        \n",
      " 4   IUCR                  549999 non-null  object        \n",
      " 5   Primary Type          549999 non-null  object        \n",
      " 6   Description           549999 non-null  object        \n",
      " 7   Location Description  549999 non-null  object        \n",
      " 8   Arrest                549999 non-null  bool          \n",
      " 9   Domestic              549999 non-null  bool          \n",
      " 10  Beat                  549999 non-null  int64         \n",
      " 11  District              549999 non-null  int64         \n",
      " 12  Ward                  213674 non-null  float64       \n",
      " 13  Community Area        549999 non-null  float64       \n",
      " 14  FBI Code              549999 non-null  object        \n",
      " 15  X Coordinate          549999 non-null  float64       \n",
      " 16  Y Coordinate          549999 non-null  float64       \n",
      " 17  Year                  549999 non-null  int64         \n",
      " 18  Updated On            549999 non-null  datetime64[ns]\n",
      " 19  Latitude              549999 non-null  float64       \n",
      " 20  Longitude             549999 non-null  float64       \n",
      " 21  Location              543087 non-null  object        \n",
      "dtypes: bool(2), datetime64[ns](2), float64(6), int64(4), object(8)\n",
      "memory usage: 85.0+ MB\n"
     ]
    }
   ],
   "source": [
    "df.info()"
   ]
  },
  {
   "cell_type": "code",
   "execution_count": 29,
   "id": "487f8a00-dce7-44ad-b0d6-0d7dc8219ed8",
   "metadata": {},
   "outputs": [
    {
     "name": "stdout",
     "output_type": "stream",
     "text": [
      "              ID Case Number                Date                 Block  IUCR  \\\n",
      "0        5741943    HN549294 2007-08-25 09:22:18    074XX N ROGERS AVE   560   \n",
      "5        1930689    HH109118 2002-01-05 21:24:00        007XX E 103 ST   820   \n",
      "27      12416972    JE293535 2020-10-01 00:01:00       031XX W 53RD PL  1753   \n",
      "28      12416974    JE293464 2011-08-10 00:01:00       031XX W 53RD PL  1753   \n",
      "29      12536164    JE439378 2015-09-24 00:00:00       031XX W 53RD PL  1753   \n",
      "...          ...         ...                 ...                   ...   ...   \n",
      "549319   1745537     G555046 2001-09-16 02:40:00         041XX W 42 ST  1220   \n",
      "549444   1674254     G463536 2001-08-06 00:30:00     118XX S CHURCH ST   460   \n",
      "549622   1803852     G623405 2001-10-16 23:39:19      066XX W GRAND AV   460   \n",
      "549865   1721905     G524424 2001-09-01 21:00:00     020XX S ARCHER AV   810   \n",
      "549873   1672685     G457581 2001-08-03 12:29:00  067XX S GREENWOOD AV   460   \n",
      "\n",
      "                      Primary Type                               Description  \\\n",
      "0                          ASSAULT                                    SIMPLE   \n",
      "5                            THEFT                            $500 AND UNDER   \n",
      "27      OFFENSE INVOLVING CHILDREN  SEXUAL ASSAULT OF CHILD BY FAMILY MEMBER   \n",
      "28      OFFENSE INVOLVING CHILDREN  SEXUAL ASSAULT OF CHILD BY FAMILY MEMBER   \n",
      "29      OFFENSE INVOLVING CHILDREN  SEXUAL ASSAULT OF CHILD BY FAMILY MEMBER   \n",
      "...                            ...                                       ...   \n",
      "549319          DECEPTIVE PRACTICE                THEFT OF LOST/MISLAID PROP   \n",
      "549444                     BATTERY                                    SIMPLE   \n",
      "549622                     BATTERY                                    SIMPLE   \n",
      "549865                       THEFT                                 OVER $500   \n",
      "549873                     BATTERY                                    SIMPLE   \n",
      "\n",
      "       Location Description  Arrest  Domestic  ...  Ward  Community Area  \\\n",
      "0                     OTHER   False     False  ...  49.0             1.0   \n",
      "5               GAS STATION    True     False  ...   NaN            25.0   \n",
      "27                RESIDENCE   False      True  ...  14.0            63.0   \n",
      "28                RESIDENCE   False      True  ...  14.0            63.0   \n",
      "29                APARTMENT   False      True  ...  14.0            63.0   \n",
      "...                     ...     ...       ...  ...   ...             ...   \n",
      "549319               STREET    True     False  ...   NaN            25.0   \n",
      "549444               STREET   False     False  ...   NaN            25.0   \n",
      "549622        BAR OR TAVERN   False     False  ...   NaN            25.0   \n",
      "549865               STREET   False     False  ...   NaN            25.0   \n",
      "549873               STREET   False     False  ...   NaN            25.0   \n",
      "\n",
      "        FBI Code  X Coordinate Y Coordinate  Year          Updated On  \\\n",
      "0            08A          -1.0         -1.0  2007 2015-08-17 15:03:40   \n",
      "5              6          -1.0         -1.0  2002 2016-02-04 06:33:39   \n",
      "27             2          -1.0         -1.0  2020 2023-09-14 15:41:59   \n",
      "28             2          -1.0         -1.0  2011 2023-09-14 15:41:59   \n",
      "29             2          -1.0         -1.0  2015 2023-09-14 15:41:59   \n",
      "...          ...           ...          ...   ...                 ...   \n",
      "549319        11          -1.0         -1.0  2001 2015-08-17 15:03:40   \n",
      "549444       08B          -1.0         -1.0  2001 2015-08-17 15:03:40   \n",
      "549622       08B          -1.0         -1.0  2001 2015-08-17 15:03:40   \n",
      "549865         6          -1.0         -1.0  2001 2015-08-17 15:03:40   \n",
      "549873       08B          -1.0         -1.0  2001 2015-08-17 15:03:40   \n",
      "\n",
      "        Latitude Longitude  Location  \n",
      "0           -1.0      -1.0       NaN  \n",
      "5           -1.0      -1.0       NaN  \n",
      "27          -1.0      -1.0       NaN  \n",
      "28          -1.0      -1.0       NaN  \n",
      "29          -1.0      -1.0       NaN  \n",
      "...          ...       ...       ...  \n",
      "549319      -1.0      -1.0       NaN  \n",
      "549444      -1.0      -1.0       NaN  \n",
      "549622      -1.0      -1.0       NaN  \n",
      "549865      -1.0      -1.0       NaN  \n",
      "549873      -1.0      -1.0       NaN  \n",
      "\n",
      "[6912 rows x 22 columns]\n"
     ]
    }
   ],
   "source": [
    "filtered_rows = df[\n",
    "    (df['Latitude'] == -1) & \n",
    "    (df['Longitude'] == -1) & \n",
    "    (df['X Coordinate'] == -1) & \n",
    "    (df['Y Coordinate'] == -1)\n",
    "]\n",
    "\n",
    "# Print the filtered rows\n",
    "print(filtered_rows)"
   ]
  },
  {
   "cell_type": "code",
   "execution_count": 127,
   "id": "b4e33a7a-098c-4e68-9dd3-464e496b3ca8",
   "metadata": {},
   "outputs": [
    {
     "name": "stdout",
     "output_type": "stream",
     "text": [
      "              ID Case Number                Date                 Block  IUCR  \\\n",
      "0        5741943    HN549294 2007-08-25 09:22:18    074XX N ROGERS AVE   560   \n",
      "5        1930689    HH109118 2002-01-05 21:24:00        007XX E 103 ST   820   \n",
      "27      12416972    JE293535 2020-10-01 00:01:00       031XX W 53RD PL  1753   \n",
      "28      12416974    JE293464 2011-08-10 00:01:00       031XX W 53RD PL  1753   \n",
      "29      12536164    JE439378 2015-09-24 00:00:00       031XX W 53RD PL  1753   \n",
      "...          ...         ...                 ...                   ...   ...   \n",
      "549319   1745537     G555046 2001-09-16 02:40:00         041XX W 42 ST  1220   \n",
      "549444   1674254     G463536 2001-08-06 00:30:00     118XX S CHURCH ST   460   \n",
      "549622   1803852     G623405 2001-10-16 23:39:19      066XX W GRAND AV   460   \n",
      "549865   1721905     G524424 2001-09-01 21:00:00     020XX S ARCHER AV   810   \n",
      "549873   1672685     G457581 2001-08-03 12:29:00  067XX S GREENWOOD AV   460   \n",
      "\n",
      "                      Primary Type                               Description  \\\n",
      "0                          ASSAULT                                    SIMPLE   \n",
      "5                            THEFT                            $500 AND UNDER   \n",
      "27      OFFENSE INVOLVING CHILDREN  SEXUAL ASSAULT OF CHILD BY FAMILY MEMBER   \n",
      "28      OFFENSE INVOLVING CHILDREN  SEXUAL ASSAULT OF CHILD BY FAMILY MEMBER   \n",
      "29      OFFENSE INVOLVING CHILDREN  SEXUAL ASSAULT OF CHILD BY FAMILY MEMBER   \n",
      "...                            ...                                       ...   \n",
      "549319          DECEPTIVE PRACTICE                THEFT OF LOST/MISLAID PROP   \n",
      "549444                     BATTERY                                    SIMPLE   \n",
      "549622                     BATTERY                                    SIMPLE   \n",
      "549865                       THEFT                                 OVER $500   \n",
      "549873                     BATTERY                                    SIMPLE   \n",
      "\n",
      "       Location Description  Arrest  Domestic  ...  Ward  Community Area  \\\n",
      "0                     OTHER   False     False  ...  49.0             1.0   \n",
      "5               GAS STATION    True     False  ...   NaN            25.0   \n",
      "27                RESIDENCE   False      True  ...  14.0            63.0   \n",
      "28                RESIDENCE   False      True  ...  14.0            63.0   \n",
      "29                APARTMENT   False      True  ...  14.0            63.0   \n",
      "...                     ...     ...       ...  ...   ...             ...   \n",
      "549319               STREET    True     False  ...   NaN            25.0   \n",
      "549444               STREET   False     False  ...   NaN            25.0   \n",
      "549622        BAR OR TAVERN   False     False  ...   NaN            25.0   \n",
      "549865               STREET   False     False  ...   NaN            25.0   \n",
      "549873               STREET   False     False  ...   NaN            25.0   \n",
      "\n",
      "        FBI Code  X Coordinate Y Coordinate  Year          Updated On  \\\n",
      "0            08A          -1.0         -1.0  2007 2015-08-17 15:03:40   \n",
      "5              6          -1.0         -1.0  2002 2016-02-04 06:33:39   \n",
      "27             2          -1.0         -1.0  2020 2023-09-14 15:41:59   \n",
      "28             2          -1.0         -1.0  2011 2023-09-14 15:41:59   \n",
      "29             2          -1.0         -1.0  2015 2023-09-14 15:41:59   \n",
      "...          ...           ...          ...   ...                 ...   \n",
      "549319        11          -1.0         -1.0  2001 2015-08-17 15:03:40   \n",
      "549444       08B          -1.0         -1.0  2001 2015-08-17 15:03:40   \n",
      "549622       08B          -1.0         -1.0  2001 2015-08-17 15:03:40   \n",
      "549865         6          -1.0         -1.0  2001 2015-08-17 15:03:40   \n",
      "549873       08B          -1.0         -1.0  2001 2015-08-17 15:03:40   \n",
      "\n",
      "        Latitude Longitude  Location  \n",
      "0           -1.0      -1.0   Unknown  \n",
      "5           -1.0      -1.0   Unknown  \n",
      "27          -1.0      -1.0   Unknown  \n",
      "28          -1.0      -1.0   Unknown  \n",
      "29          -1.0      -1.0   Unknown  \n",
      "...          ...       ...       ...  \n",
      "549319      -1.0      -1.0   Unknown  \n",
      "549444      -1.0      -1.0   Unknown  \n",
      "549622      -1.0      -1.0   Unknown  \n",
      "549865      -1.0      -1.0   Unknown  \n",
      "549873      -1.0      -1.0   Unknown  \n",
      "\n",
      "[6912 rows x 22 columns]\n"
     ]
    }
   ],
   "source": [
    "df.loc[\n",
    "    (df['Latitude'] == -1) & \n",
    "    (df['Longitude'] == -1) & \n",
    "    (df['X Coordinate'] == -1) & \n",
    "    (df['Y Coordinate'] == -1), \n",
    "    'Location'\n",
    "] = 'Unknown'\n",
    "\n",
    "# Verify the changes\n",
    "print(df.loc[df['Location'] == 'Unknown'])"
   ]
  },
  {
   "cell_type": "code",
   "execution_count": 31,
   "id": "5b3c3a7b-45e0-49da-9827-e5a7787134b5",
   "metadata": {},
   "outputs": [
    {
     "name": "stdout",
     "output_type": "stream",
     "text": [
      "<class 'pandas.core.frame.DataFrame'>\n",
      "RangeIndex: 549999 entries, 0 to 549998\n",
      "Data columns (total 22 columns):\n",
      " #   Column                Non-Null Count   Dtype         \n",
      "---  ------                --------------   -----         \n",
      " 0   ID                    549999 non-null  int64         \n",
      " 1   Case Number           549999 non-null  object        \n",
      " 2   Date                  549999 non-null  datetime64[ns]\n",
      " 3   Block                 549999 non-null  object        \n",
      " 4   IUCR                  549999 non-null  object        \n",
      " 5   Primary Type          549999 non-null  object        \n",
      " 6   Description           549999 non-null  object        \n",
      " 7   Location Description  549999 non-null  object        \n",
      " 8   Arrest                549999 non-null  bool          \n",
      " 9   Domestic              549999 non-null  bool          \n",
      " 10  Beat                  549999 non-null  int64         \n",
      " 11  District              549999 non-null  int64         \n",
      " 12  Ward                  213674 non-null  float64       \n",
      " 13  Community Area        549999 non-null  float64       \n",
      " 14  FBI Code              549999 non-null  object        \n",
      " 15  X Coordinate          549999 non-null  float64       \n",
      " 16  Y Coordinate          549999 non-null  float64       \n",
      " 17  Year                  549999 non-null  int64         \n",
      " 18  Updated On            549999 non-null  datetime64[ns]\n",
      " 19  Latitude              549999 non-null  float64       \n",
      " 20  Longitude             549999 non-null  float64       \n",
      " 21  Location              543087 non-null  object        \n",
      "dtypes: bool(2), datetime64[ns](2), float64(6), int64(4), object(8)\n",
      "memory usage: 85.0+ MB\n"
     ]
    }
   ],
   "source": [
    "df.info()"
   ]
  },
  {
   "cell_type": "code",
   "execution_count": 33,
   "id": "2b714be7-a2ac-4c17-9021-fa73583378c1",
   "metadata": {},
   "outputs": [
    {
     "data": {
      "text/plain": [
       "50"
      ]
     },
     "execution_count": 33,
     "metadata": {},
     "output_type": "execute_result"
    }
   ],
   "source": [
    "df['Ward'].nunique()"
   ]
  },
  {
   "cell_type": "code",
   "execution_count": 35,
   "id": "668cd485-9084-4dec-9888-991d57c78254",
   "metadata": {},
   "outputs": [
    {
     "name": "stdout",
     "output_type": "stream",
     "text": [
      "Index(['ID', 'Case Number', 'Date', 'Block', 'IUCR', 'Primary Type',\n",
      "       'Description', 'Location Description', 'Arrest', 'Domestic', 'Beat',\n",
      "       'District', 'Community Area', 'FBI Code', 'X Coordinate',\n",
      "       'Y Coordinate', 'Year', 'Updated On', 'Latitude', 'Longitude',\n",
      "       'Location'],\n",
      "      dtype='object')\n"
     ]
    }
   ],
   "source": [
    "##Dropping Ward column since it has too many null values and it is not an essential column for visualization\n",
    "df.drop('Ward', axis=1, inplace=True)\n",
    "print(df.columns)"
   ]
  },
  {
   "cell_type": "code",
   "execution_count": 37,
   "id": "efe69f02-1708-4645-ab82-de00e17927fd",
   "metadata": {},
   "outputs": [
    {
     "data": {
      "text/html": [
       "<div>\n",
       "<style scoped>\n",
       "    .dataframe tbody tr th:only-of-type {\n",
       "        vertical-align: middle;\n",
       "    }\n",
       "\n",
       "    .dataframe tbody tr th {\n",
       "        vertical-align: top;\n",
       "    }\n",
       "\n",
       "    .dataframe thead th {\n",
       "        text-align: right;\n",
       "    }\n",
       "</style>\n",
       "<table border=\"1\" class=\"dataframe\">\n",
       "  <thead>\n",
       "    <tr style=\"text-align: right;\">\n",
       "      <th></th>\n",
       "      <th>ID</th>\n",
       "      <th>Date</th>\n",
       "      <th>Beat</th>\n",
       "      <th>District</th>\n",
       "      <th>Community Area</th>\n",
       "      <th>X Coordinate</th>\n",
       "      <th>Y Coordinate</th>\n",
       "      <th>Year</th>\n",
       "      <th>Updated On</th>\n",
       "      <th>Latitude</th>\n",
       "      <th>Longitude</th>\n",
       "    </tr>\n",
       "  </thead>\n",
       "  <tbody>\n",
       "    <tr>\n",
       "      <th>count</th>\n",
       "      <td>5.499990e+05</td>\n",
       "      <td>549999</td>\n",
       "      <td>549999.000000</td>\n",
       "      <td>549999.000000</td>\n",
       "      <td>549999.000000</td>\n",
       "      <td>5.499990e+05</td>\n",
       "      <td>5.499990e+05</td>\n",
       "      <td>549999.000000</td>\n",
       "      <td>549999</td>\n",
       "      <td>549999.000000</td>\n",
       "      <td>549999.000000</td>\n",
       "    </tr>\n",
       "    <tr>\n",
       "      <th>mean</th>\n",
       "      <td>5.748380e+06</td>\n",
       "      <td>2009-10-05 02:55:46.740996096</td>\n",
       "      <td>1200.364957</td>\n",
       "      <td>11.339984</td>\n",
       "      <td>29.597303</td>\n",
       "      <td>1.150149e+06</td>\n",
       "      <td>1.863240e+06</td>\n",
       "      <td>2009.336524</td>\n",
       "      <td>2018-12-22 08:36:46.706199552</td>\n",
       "      <td>41.306938</td>\n",
       "      <td>-86.581540</td>\n",
       "    </tr>\n",
       "    <tr>\n",
       "      <th>min</th>\n",
       "      <td>6.340000e+02</td>\n",
       "      <td>2001-01-01 00:00:00</td>\n",
       "      <td>111.000000</td>\n",
       "      <td>1.000000</td>\n",
       "      <td>1.000000</td>\n",
       "      <td>-1.000000e+00</td>\n",
       "      <td>-1.000000e+00</td>\n",
       "      <td>2001.000000</td>\n",
       "      <td>2006-03-31 22:03:38</td>\n",
       "      <td>-1.000000</td>\n",
       "      <td>-91.686566</td>\n",
       "    </tr>\n",
       "    <tr>\n",
       "      <th>25%</th>\n",
       "      <td>1.477682e+06</td>\n",
       "      <td>2001-04-21 02:04:25.500000</td>\n",
       "      <td>621.000000</td>\n",
       "      <td>6.000000</td>\n",
       "      <td>25.000000</td>\n",
       "      <td>1.153177e+06</td>\n",
       "      <td>1.859548e+06</td>\n",
       "      <td>2001.000000</td>\n",
       "      <td>2015-08-17 15:03:40</td>\n",
       "      <td>41.769961</td>\n",
       "      <td>-87.710552</td>\n",
       "    </tr>\n",
       "    <tr>\n",
       "      <th>50%</th>\n",
       "      <td>1.651346e+06</td>\n",
       "      <td>2001-08-04 19:00:00</td>\n",
       "      <td>1113.000000</td>\n",
       "      <td>10.000000</td>\n",
       "      <td>25.000000</td>\n",
       "      <td>1.166183e+06</td>\n",
       "      <td>1.891309e+06</td>\n",
       "      <td>2001.000000</td>\n",
       "      <td>2015-08-17 15:03:40</td>\n",
       "      <td>41.857362</td>\n",
       "      <td>-87.663942</td>\n",
       "    </tr>\n",
       "    <tr>\n",
       "      <th>75%</th>\n",
       "      <td>1.327660e+07</td>\n",
       "      <td>2023-11-07 23:00:00</td>\n",
       "      <td>1813.000000</td>\n",
       "      <td>17.000000</td>\n",
       "      <td>25.000000</td>\n",
       "      <td>1.176389e+06</td>\n",
       "      <td>1.910146e+06</td>\n",
       "      <td>2023.000000</td>\n",
       "      <td>2023-11-24 15:40:59</td>\n",
       "      <td>41.909314</td>\n",
       "      <td>-87.627340</td>\n",
       "    </tr>\n",
       "    <tr>\n",
       "      <th>max</th>\n",
       "      <td>1.348547e+07</td>\n",
       "      <td>2024-05-30 00:00:00</td>\n",
       "      <td>2535.000000</td>\n",
       "      <td>31.000000</td>\n",
       "      <td>77.000000</td>\n",
       "      <td>1.205119e+06</td>\n",
       "      <td>1.951610e+06</td>\n",
       "      <td>2024.000000</td>\n",
       "      <td>2024-06-06 15:41:55</td>\n",
       "      <td>42.022878</td>\n",
       "      <td>-1.000000</td>\n",
       "    </tr>\n",
       "    <tr>\n",
       "      <th>std</th>\n",
       "      <td>5.669909e+06</td>\n",
       "      <td>NaN</td>\n",
       "      <td>712.157469</td>\n",
       "      <td>7.047229</td>\n",
       "      <td>14.808441</td>\n",
       "      <td>1.311069e+05</td>\n",
       "      <td>2.131093e+05</td>\n",
       "      <td>10.728233</td>\n",
       "      <td>NaN</td>\n",
       "      <td>4.773843</td>\n",
       "      <td>9.655133</td>\n",
       "    </tr>\n",
       "  </tbody>\n",
       "</table>\n",
       "</div>"
      ],
      "text/plain": [
       "                 ID                           Date           Beat  \\\n",
       "count  5.499990e+05                         549999  549999.000000   \n",
       "mean   5.748380e+06  2009-10-05 02:55:46.740996096    1200.364957   \n",
       "min    6.340000e+02            2001-01-01 00:00:00     111.000000   \n",
       "25%    1.477682e+06     2001-04-21 02:04:25.500000     621.000000   \n",
       "50%    1.651346e+06            2001-08-04 19:00:00    1113.000000   \n",
       "75%    1.327660e+07            2023-11-07 23:00:00    1813.000000   \n",
       "max    1.348547e+07            2024-05-30 00:00:00    2535.000000   \n",
       "std    5.669909e+06                            NaN     712.157469   \n",
       "\n",
       "            District  Community Area  X Coordinate  Y Coordinate  \\\n",
       "count  549999.000000   549999.000000  5.499990e+05  5.499990e+05   \n",
       "mean       11.339984       29.597303  1.150149e+06  1.863240e+06   \n",
       "min         1.000000        1.000000 -1.000000e+00 -1.000000e+00   \n",
       "25%         6.000000       25.000000  1.153177e+06  1.859548e+06   \n",
       "50%        10.000000       25.000000  1.166183e+06  1.891309e+06   \n",
       "75%        17.000000       25.000000  1.176389e+06  1.910146e+06   \n",
       "max        31.000000       77.000000  1.205119e+06  1.951610e+06   \n",
       "std         7.047229       14.808441  1.311069e+05  2.131093e+05   \n",
       "\n",
       "                Year                     Updated On       Latitude  \\\n",
       "count  549999.000000                         549999  549999.000000   \n",
       "mean     2009.336524  2018-12-22 08:36:46.706199552      41.306938   \n",
       "min      2001.000000            2006-03-31 22:03:38      -1.000000   \n",
       "25%      2001.000000            2015-08-17 15:03:40      41.769961   \n",
       "50%      2001.000000            2015-08-17 15:03:40      41.857362   \n",
       "75%      2023.000000            2023-11-24 15:40:59      41.909314   \n",
       "max      2024.000000            2024-06-06 15:41:55      42.022878   \n",
       "std        10.728233                            NaN       4.773843   \n",
       "\n",
       "           Longitude  \n",
       "count  549999.000000  \n",
       "mean      -86.581540  \n",
       "min       -91.686566  \n",
       "25%       -87.710552  \n",
       "50%       -87.663942  \n",
       "75%       -87.627340  \n",
       "max        -1.000000  \n",
       "std         9.655133  "
      ]
     },
     "execution_count": 37,
     "metadata": {},
     "output_type": "execute_result"
    }
   ],
   "source": [
    "# Statistical Analysis\n",
    "df.describe()"
   ]
  },
  {
   "cell_type": "code",
   "execution_count": null,
   "id": "2ad7e807-3185-481d-ad2e-ee61a4362308",
   "metadata": {},
   "outputs": [],
   "source": [
    "'''\n",
    "From the date column it is observed the year ranges from 2001-2024.\n",
    "'''"
   ]
  },
  {
   "cell_type": "code",
   "execution_count": 135,
   "id": "75bdbde3-8071-4a1c-ad00-fc431e7ec1f8",
   "metadata": {},
   "outputs": [
    {
     "data": {
      "text/plain": [
       "False"
      ]
     },
     "execution_count": 135,
     "metadata": {},
     "output_type": "execute_result"
    }
   ],
   "source": [
    "# Getting an idea whether there are any null values in the data or not\n",
    "df.isnull().sum().any()"
   ]
  },
  {
   "cell_type": "code",
   "execution_count": null,
   "id": "2a2e01aa-e59e-4c99-b2d9-05cf7ffb1712",
   "metadata": {},
   "outputs": [],
   "source": [
    "## Null values  not present"
   ]
  },
  {
   "cell_type": "code",
   "execution_count": 137,
   "id": "1e30adf3-15ac-4ae4-b4c3-0f9702745e1f",
   "metadata": {},
   "outputs": [
    {
     "data": {
      "text/plain": [
       "0"
      ]
     },
     "execution_count": 137,
     "metadata": {},
     "output_type": "execute_result"
    }
   ],
   "source": [
    "#Getting an idea about the duplicates\n",
    "df.duplicated().sum()"
   ]
  },
  {
   "cell_type": "code",
   "execution_count": null,
   "id": "71727ad3-1acf-4db2-ac34-feb92042cbd3",
   "metadata": {},
   "outputs": [],
   "source": [
    "## No duplicates present"
   ]
  },
  {
   "cell_type": "code",
   "execution_count": 143,
   "id": "81249417-2e52-42f8-b44b-7329fac2cdcb",
   "metadata": {},
   "outputs": [],
   "source": [
    "##To export the cleaned data to excel \n",
    "# Specify the file path with .xlsx extension\n",
    "df.to_excel('D:/cdrive/desktop/DIVYA/CAREER/guvi/PROJECT/CHICAGOCRIME_cleaned.xlsx', index=True)\n"
   ]
  },
  {
   "cell_type": "code",
   "execution_count": 43,
   "id": "4a92e4ab-53f2-4303-9066-98d3f6441dc3",
   "metadata": {},
   "outputs": [
    {
     "name": "stdout",
     "output_type": "stream",
     "text": [
      "                      ID      Beat  District  Community Area  X Coordinate  \\\n",
      "ID              1.000000 -0.033412  0.011859        0.323041     -0.067990   \n",
      "Beat           -0.033412  1.000000  0.930283       -0.287103     -0.060016   \n",
      "District        0.011859  0.930283  1.000000       -0.271668     -0.063642   \n",
      "Community Area  0.323041 -0.287103 -0.271668        1.000000     -0.021449   \n",
      "X Coordinate   -0.067990 -0.060016 -0.063642       -0.021449      1.000000   \n",
      "Y Coordinate   -0.066100  0.094230  0.099095       -0.094628      0.972018   \n",
      "Year            0.971433 -0.043106  0.003979        0.352804     -0.038687   \n",
      "Latitude       -0.070280  0.011897  0.015727       -0.041599      0.988969   \n",
      "Longitude       0.070844 -0.003312 -0.007348        0.034705     -0.988660   \n",
      "\n",
      "                Y Coordinate      Year  Latitude  Longitude  \n",
      "ID                 -0.066100  0.971433 -0.070280   0.070844  \n",
      "Beat                0.094230 -0.043106  0.011897  -0.003312  \n",
      "District            0.099095  0.003979  0.015727  -0.007348  \n",
      "Community Area     -0.094628  0.352804 -0.041599   0.034705  \n",
      "X Coordinate        0.972018 -0.038687  0.988969  -0.988660  \n",
      "Y Coordinate        1.000000 -0.038829  0.989486  -0.986543  \n",
      "Year               -0.038829  1.000000 -0.040959   0.041289  \n",
      "Latitude            0.989486 -0.040959  1.000000  -0.999797  \n",
      "Longitude          -0.986543  0.041289 -0.999797   1.000000  \n"
     ]
    }
   ],
   "source": [
    "##creating correlation matrix only for numeric columns\n",
    "numeric_df = df.select_dtypes(include='number')  # Keep only numeric columns\n",
    "correlation_matrix = numeric_df.corr()  # Compute correlation matrix\n",
    "print(correlation_matrix)"
   ]
  },
  {
   "cell_type": "code",
   "execution_count": 47,
   "id": "83b8cbde-57ce-4fb6-b415-d2492d954f23",
   "metadata": {},
   "outputs": [
    {
     "data": {
      "image/png": "[encoded data removed]",
      "text/plain": [
       "<Figure size 1000x600 with 2 Axes>"
      ]
     },
     "metadata": {},
     "output_type": "display_data"
    }
   ],
   "source": [
    "##heatmap\n",
    "import seaborn as sns\n",
    "import matplotlib.pyplot as plt\n",
    "\n",
    "plt.figure(figsize=(10, 6))\n",
    "sns.heatmap(correlation_matrix, annot=True)\n",
    "plt.show()"
   ]
  },
  {
   "cell_type": "code",
   "execution_count": 49,
   "id": "d0537147-c1bd-4495-80bf-46367253aa1a",
   "metadata": {},
   "outputs": [
    {
     "data": {
      "image/png": "[encoded data removed]",
      "text/plain": [
       "<Figure size 700x300 with 1 Axes>"
      ]
     },
     "metadata": {},
     "output_type": "display_data"
    }
   ],
   "source": [
    "##Data Visualization\n",
    "plt.figure(figsize = (7, 3))\n",
    "sns.histplot(df['Year'], bins = 30, kde = True)\n",
    "plt.title('Histogram of Crime rate across years')\n",
    "plt.xlabel('Price')\n",
    "plt.ylabel('Frequency')\n",
    "plt.show()"
   ]
  },
  {
   "cell_type": "code",
   "execution_count": null,
   "id": "591aa520-d35d-4104-be7e-4298ef24b940",
   "metadata": {},
   "outputs": [],
   "source": [
    "'''\n",
    "Crime rate was significantly higher in 2000 and \n",
    "reduced over years and increased after 2022\n",
    "'''"
   ]
  },
  {
   "cell_type": "code",
   "execution_count": null,
   "id": "b329d296-6e2b-4005-a659-ab769bc6a577",
   "metadata": {},
   "outputs": [],
   "source": []
  },
  {
   "cell_type": "code",
   "execution_count": null,
   "id": "697a241b-a679-4386-8cd8-5e71f56b2d79",
   "metadata": {},
   "outputs": [],
   "source": []
  }
 ],
 "metadata": {
  "kernelspec": {
   "display_name": "Python 3 (ipykernel)",
   "language": "python",
   "name": "python3"
  },
  "language_info": {
   "codemirror_mode": {
    "name": "ipython",
    "version": 3
   },
   "file_extension": ".py",
   "mimetype": "text/x-python",
   "name": "python",
   "nbconvert_exporter": "python",
   "pygments_lexer": "ipython3",
   "version": "3.12.4"
  }
 },
 "nbformat": 4,
 "nbformat_minor": 5
}
